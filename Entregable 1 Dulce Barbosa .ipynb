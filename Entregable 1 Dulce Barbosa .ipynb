{
 "cells": [
  {
   "cell_type": "markdown",
   "id": "b3720861",
   "metadata": {},
   "source": [
    "## Vamos a analizar los datos de la formula 1\n",
    "$\\textbf{Entregable 1}$\n",
    "\n",
    "Dulce Maria Barbosa Campos 201946404\n"
   ]
  },
  {
   "cell_type": "markdown",
   "id": "210a73c4",
   "metadata": {},
   "source": [
    "Ahora vamos a crear tablas para cada DataBase de nuestra API"
   ]
  },
  {
   "cell_type": "code",
   "execution_count": 1,
   "id": "3202ae6e",
   "metadata": {},
   "outputs": [],
   "source": [
    "import requests\n",
    "import json\n",
    "import pandas as pd\n",
    "import warnings\n",
    "warnings.filterwarnings('ignore')"
   ]
  },
  {
   "cell_type": "markdown",
   "id": "5fce1810",
   "metadata": {},
   "source": [
    "Después de importar las paqueterias creamos cada tabla\n"
   ]
  },
  {
   "cell_type": "markdown",
   "id": "c72cab62",
   "metadata": {},
   "source": [
    "# $\\textrm{Tabla Drivers}$"
   ]
  },
  {
   "cell_type": "code",
   "execution_count": 94,
   "id": "34615a75",
   "metadata": {},
   "outputs": [
    {
     "data": {
      "text/plain": [
       "dict_keys(['driverId', 'url', 'givenName', 'familyName', 'dateOfBirth', 'nationality'])"
      ]
     },
     "execution_count": 94,
     "metadata": {},
     "output_type": "execute_result"
    }
   ],
   "source": [
    "#Primero analizamos el drivers y que elementos contiene la lista\n",
    "\n",
    "url='http://ergast.com/api/f1/drivers.json'\n",
    "response = requests.get(url.format(2022))\n",
    "content=json.loads(response.content)\n",
    "content['MRData'][ 'DriverTable']['Drivers'][0].keys()\n"
   ]
  },
  {
   "cell_type": "code",
   "execution_count": 100,
   "id": "bc08ca85",
   "metadata": {},
   "outputs": [],
   "source": [
    "#Creamos el diccionario que guarde \n",
    "drivers = {'driverId':[],\n",
    "        'GivenName':[],\n",
    "        'FamilyName':[],\n",
    "        'DateOfBirth':[],\n",
    "        'Nationality':[],\n",
    "        'url':[]\n",
    "       }\n"
   ]
  },
  {
   "cell_type": "code",
   "execution_count": 101,
   "id": "31c191c5",
   "metadata": {},
   "outputs": [],
   "source": [
    "\n",
    "for year in list(range(2010,2023)):\n",
    "    url ='http://ergast.com/api/f1/drivers.json'\n",
    "    response = requests.get(url.format(year))\n",
    "    \n",
    "    content = json.loads(response.content)\n",
    "        \n",
    "    for i in content['MRData']['DriverTable']['Drivers']:\n",
    "        drivers['driverId'].append(i['driverId'])\n",
    "        drivers['GivenName'].append(i['givenName'])\n",
    "        drivers['FamilyName'].append(i['familyName'])\n",
    "        drivers['DateOfBirth'].append(i['dateOfBirth'])\n",
    "        drivers['Nationality'].append(i['nationality'])\n",
    "        drivers['url'].append(i['url']) "
   ]
  },
  {
   "cell_type": "code",
   "execution_count": 102,
   "id": "fb9afb92",
   "metadata": {},
   "outputs": [
    {
     "data": {
      "text/html": [
       "<div>\n",
       "<style scoped>\n",
       "    .dataframe tbody tr th:only-of-type {\n",
       "        vertical-align: middle;\n",
       "    }\n",
       "\n",
       "    .dataframe tbody tr th {\n",
       "        vertical-align: top;\n",
       "    }\n",
       "\n",
       "    .dataframe thead th {\n",
       "        text-align: right;\n",
       "    }\n",
       "</style>\n",
       "<table border=\"1\" class=\"dataframe\">\n",
       "  <thead>\n",
       "    <tr style=\"text-align: right;\">\n",
       "      <th></th>\n",
       "      <th>driverId</th>\n",
       "      <th>GivenName</th>\n",
       "      <th>FamilyName</th>\n",
       "      <th>DateOfBirth</th>\n",
       "      <th>Nationality</th>\n",
       "      <th>url</th>\n",
       "    </tr>\n",
       "  </thead>\n",
       "  <tbody>\n",
       "    <tr>\n",
       "      <th>0</th>\n",
       "      <td>abate</td>\n",
       "      <td>Carlo</td>\n",
       "      <td>Abate</td>\n",
       "      <td>1932-07-10</td>\n",
       "      <td>Italian</td>\n",
       "      <td>http://en.wikipedia.org/wiki/Carlo_Mario_Abate</td>\n",
       "    </tr>\n",
       "    <tr>\n",
       "      <th>1</th>\n",
       "      <td>abecassis</td>\n",
       "      <td>George</td>\n",
       "      <td>Abecassis</td>\n",
       "      <td>1913-03-21</td>\n",
       "      <td>British</td>\n",
       "      <td>http://en.wikipedia.org/wiki/George_Abecassis</td>\n",
       "    </tr>\n",
       "    <tr>\n",
       "      <th>2</th>\n",
       "      <td>acheson</td>\n",
       "      <td>Kenny</td>\n",
       "      <td>Acheson</td>\n",
       "      <td>1957-11-27</td>\n",
       "      <td>British</td>\n",
       "      <td>http://en.wikipedia.org/wiki/Kenny_Acheson</td>\n",
       "    </tr>\n",
       "    <tr>\n",
       "      <th>3</th>\n",
       "      <td>adams</td>\n",
       "      <td>Philippe</td>\n",
       "      <td>Adams</td>\n",
       "      <td>1969-11-19</td>\n",
       "      <td>Belgian</td>\n",
       "      <td>http://en.wikipedia.org/wiki/Philippe_Adams</td>\n",
       "    </tr>\n",
       "    <tr>\n",
       "      <th>4</th>\n",
       "      <td>ader</td>\n",
       "      <td>Walt</td>\n",
       "      <td>Ader</td>\n",
       "      <td>1913-12-15</td>\n",
       "      <td>American</td>\n",
       "      <td>http://en.wikipedia.org/wiki/Walt_Ader</td>\n",
       "    </tr>\n",
       "  </tbody>\n",
       "</table>\n",
       "</div>"
      ],
      "text/plain": [
       "    driverId GivenName FamilyName DateOfBirth Nationality  \\\n",
       "0      abate     Carlo      Abate  1932-07-10     Italian   \n",
       "1  abecassis    George  Abecassis  1913-03-21     British   \n",
       "2    acheson     Kenny    Acheson  1957-11-27     British   \n",
       "3      adams  Philippe      Adams  1969-11-19     Belgian   \n",
       "4       ader      Walt       Ader  1913-12-15    American   \n",
       "\n",
       "                                              url  \n",
       "0  http://en.wikipedia.org/wiki/Carlo_Mario_Abate  \n",
       "1   http://en.wikipedia.org/wiki/George_Abecassis  \n",
       "2      http://en.wikipedia.org/wiki/Kenny_Acheson  \n",
       "3     http://en.wikipedia.org/wiki/Philippe_Adams  \n",
       "4          http://en.wikipedia.org/wiki/Walt_Ader  "
      ]
     },
     "execution_count": 102,
     "metadata": {},
     "output_type": "execute_result"
    }
   ],
   "source": [
    "pd.DataFrame(drivers).head()"
   ]
  },
  {
   "cell_type": "code",
   "execution_count": 58,
   "id": "25bdddeb",
   "metadata": {},
   "outputs": [],
   "source": [
    "#Lo importamos a formato csv\n",
    "pd.DataFrame(drivers).to_csv('Drivers.csv', index=False)"
   ]
  },
  {
   "cell_type": "markdown",
   "id": "38356f1d",
   "metadata": {},
   "source": [
    "# $\\textrm{Tabla Constructors}$"
   ]
  },
  {
   "cell_type": "code",
   "execution_count": 38,
   "id": "d452c1f3",
   "metadata": {},
   "outputs": [
    {
     "data": {
      "text/plain": [
       "dict_keys(['constructorId', 'url', 'name', 'nationality'])"
      ]
     },
     "execution_count": 38,
     "metadata": {},
     "output_type": "execute_result"
    }
   ],
   "source": [
    "#Primero analizamos constructors y que elementos contiene \n",
    "\n",
    "url='http://ergast.com/api/f1/constructors.json'\n",
    "response = requests.get(url.format(2022))\n",
    "content=json.loads(response.content)\n",
    "content['MRData'][ 'ConstructorTable']['Constructors'][0].keys()"
   ]
  },
  {
   "cell_type": "code",
   "execution_count": 42,
   "id": "e15a70fd",
   "metadata": {},
   "outputs": [],
   "source": [
    "#Creamos el diccionario \n",
    "constructors = {'ConstructorId':[],\n",
    "        'Name':[],\n",
    "        'Nationality':[],\n",
    "        'url':[]\n",
    "       }"
   ]
  },
  {
   "cell_type": "code",
   "execution_count": 43,
   "id": "46be8dd6",
   "metadata": {},
   "outputs": [],
   "source": [
    "for year in list(range(2010,2023)):\n",
    "    url ='http://ergast.com/api/f1/constructors.json'\n",
    "    response = requests.get(url.format(year))\n",
    "    \n",
    "    content = json.loads(response.content)\n",
    "        \n",
    "    for i in content['MRData']['ConstructorTable']['Constructors']:\n",
    "        constructors['ConstructorId'].append(i['constructorId'])\n",
    "        constructors['Name'].append(i['name'])\n",
    "        constructors['Nationality'].append(i['nationality'])\n",
    "        constructors['url'].append(i['url']) "
   ]
  },
  {
   "cell_type": "code",
   "execution_count": 45,
   "id": "2027cd3d",
   "metadata": {},
   "outputs": [
    {
     "data": {
      "text/html": [
       "<div>\n",
       "<style scoped>\n",
       "    .dataframe tbody tr th:only-of-type {\n",
       "        vertical-align: middle;\n",
       "    }\n",
       "\n",
       "    .dataframe tbody tr th {\n",
       "        vertical-align: top;\n",
       "    }\n",
       "\n",
       "    .dataframe thead th {\n",
       "        text-align: right;\n",
       "    }\n",
       "</style>\n",
       "<table border=\"1\" class=\"dataframe\">\n",
       "  <thead>\n",
       "    <tr style=\"text-align: right;\">\n",
       "      <th></th>\n",
       "      <th>ConstructorId</th>\n",
       "      <th>Name</th>\n",
       "      <th>Nationality</th>\n",
       "      <th>url</th>\n",
       "    </tr>\n",
       "  </thead>\n",
       "  <tbody>\n",
       "    <tr>\n",
       "      <th>0</th>\n",
       "      <td>adams</td>\n",
       "      <td>Adams</td>\n",
       "      <td>American</td>\n",
       "      <td>http://en.wikipedia.org/wiki/Adams_(constructor)</td>\n",
       "    </tr>\n",
       "    <tr>\n",
       "      <th>1</th>\n",
       "      <td>afm</td>\n",
       "      <td>AFM</td>\n",
       "      <td>German</td>\n",
       "      <td>http://en.wikipedia.org/wiki/Alex_von_Falkenha...</td>\n",
       "    </tr>\n",
       "    <tr>\n",
       "      <th>2</th>\n",
       "      <td>ags</td>\n",
       "      <td>AGS</td>\n",
       "      <td>French</td>\n",
       "      <td>http://en.wikipedia.org/wiki/Automobiles_Gonfa...</td>\n",
       "    </tr>\n",
       "    <tr>\n",
       "      <th>3</th>\n",
       "      <td>alfa</td>\n",
       "      <td>Alfa Romeo</td>\n",
       "      <td>Swiss</td>\n",
       "      <td>http://en.wikipedia.org/wiki/Alfa_Romeo_in_For...</td>\n",
       "    </tr>\n",
       "    <tr>\n",
       "      <th>4</th>\n",
       "      <td>alphatauri</td>\n",
       "      <td>AlphaTauri</td>\n",
       "      <td>Italian</td>\n",
       "      <td>http://en.wikipedia.org/wiki/Scuderia_AlphaTauri</td>\n",
       "    </tr>\n",
       "  </tbody>\n",
       "</table>\n",
       "</div>"
      ],
      "text/plain": [
       "  ConstructorId        Name Nationality  \\\n",
       "0         adams       Adams    American   \n",
       "1           afm         AFM      German   \n",
       "2           ags         AGS      French   \n",
       "3          alfa  Alfa Romeo       Swiss   \n",
       "4    alphatauri  AlphaTauri     Italian   \n",
       "\n",
       "                                                 url  \n",
       "0   http://en.wikipedia.org/wiki/Adams_(constructor)  \n",
       "1  http://en.wikipedia.org/wiki/Alex_von_Falkenha...  \n",
       "2  http://en.wikipedia.org/wiki/Automobiles_Gonfa...  \n",
       "3  http://en.wikipedia.org/wiki/Alfa_Romeo_in_For...  \n",
       "4   http://en.wikipedia.org/wiki/Scuderia_AlphaTauri  "
      ]
     },
     "execution_count": 45,
     "metadata": {},
     "output_type": "execute_result"
    }
   ],
   "source": [
    "pd.DataFrame(constructors).head()"
   ]
  },
  {
   "cell_type": "code",
   "execution_count": 47,
   "id": "6a0166e1",
   "metadata": {},
   "outputs": [],
   "source": [
    "#Lo importamos a formato csv\n",
    "pd.DataFrame(constructors).to_csv('Constructors.csv', index=False)"
   ]
  },
  {
   "cell_type": "markdown",
   "id": "3d42cb05",
   "metadata": {},
   "source": [
    "# $\\textrm{Tabla Circuits}$"
   ]
  },
  {
   "cell_type": "code",
   "execution_count": 85,
   "id": "4a726e20",
   "metadata": {},
   "outputs": [
    {
     "data": {
      "text/plain": [
       "dict_keys(['circuitId', 'url', 'circuitName', 'Location'])"
      ]
     },
     "execution_count": 85,
     "metadata": {},
     "output_type": "execute_result"
    }
   ],
   "source": [
    "#Primero analizamos constructors y que elementos contiene \n",
    "\n",
    "url='http://ergast.com/api/f1/circuits.json'\n",
    "response = requests.get(url.format(2022))\n",
    "content=json.loads(response.content)\n",
    "content['MRData']['CircuitTable']['Circuits'][0].keys()"
   ]
  },
  {
   "cell_type": "code",
   "execution_count": 88,
   "id": "682a1d30",
   "metadata": {},
   "outputs": [],
   "source": [
    "#Creamos el diccionario\n",
    "circuits = {'CircuitId':[],\n",
    "        'CircuitName':[],\n",
    "        'Lat':[],\n",
    "        'Long':[],\n",
    "        'Locality':[],\n",
    "        'Country':[],\n",
    "        'url':[]\n",
    "       }"
   ]
  },
  {
   "cell_type": "code",
   "execution_count": 89,
   "id": "c36737cb",
   "metadata": {},
   "outputs": [],
   "source": [
    "#Creamos la funcion \n",
    "\n",
    "for year in list(range(2010,2023)):\n",
    "    url ='http://ergast.com/api/f1/circuits.json'\n",
    "    response = requests.get(url.format(year))\n",
    "    \n",
    "    content = json.loads(response.content)\n",
    "        \n",
    "    for i in content['MRData']['CircuitTable']['Circuits']:\n",
    "        circuits['CircuitId'].append(i['circuitId'])\n",
    "        circuits['CircuitName'].append(i['circuitName'])\n",
    "        circuits['Lat'].append(i['Location']['lat'])\n",
    "        circuits['Long'].append(i['Location']['long'])\n",
    "        circuits['Locality'].append(i['Location']['locality'])\n",
    "        circuits['Country'].append(i['Location']['country'])\n",
    "        circuits['url'].append(i['url']) "
   ]
  },
  {
   "cell_type": "code",
   "execution_count": 90,
   "id": "67c65358",
   "metadata": {},
   "outputs": [
    {
     "data": {
      "text/html": [
       "<div>\n",
       "<style scoped>\n",
       "    .dataframe tbody tr th:only-of-type {\n",
       "        vertical-align: middle;\n",
       "    }\n",
       "\n",
       "    .dataframe tbody tr th {\n",
       "        vertical-align: top;\n",
       "    }\n",
       "\n",
       "    .dataframe thead th {\n",
       "        text-align: right;\n",
       "    }\n",
       "</style>\n",
       "<table border=\"1\" class=\"dataframe\">\n",
       "  <thead>\n",
       "    <tr style=\"text-align: right;\">\n",
       "      <th></th>\n",
       "      <th>CircuitId</th>\n",
       "      <th>CircuitName</th>\n",
       "      <th>Lat</th>\n",
       "      <th>Long</th>\n",
       "      <th>Locality</th>\n",
       "      <th>Country</th>\n",
       "      <th>url</th>\n",
       "    </tr>\n",
       "  </thead>\n",
       "  <tbody>\n",
       "    <tr>\n",
       "      <th>0</th>\n",
       "      <td>adelaide</td>\n",
       "      <td>Adelaide Street Circuit</td>\n",
       "      <td>-34.9272</td>\n",
       "      <td>138.617</td>\n",
       "      <td>Adelaide</td>\n",
       "      <td>Australia</td>\n",
       "      <td>http://en.wikipedia.org/wiki/Adelaide_Street_C...</td>\n",
       "    </tr>\n",
       "    <tr>\n",
       "      <th>1</th>\n",
       "      <td>ain-diab</td>\n",
       "      <td>Ain Diab</td>\n",
       "      <td>33.5786</td>\n",
       "      <td>-7.6875</td>\n",
       "      <td>Casablanca</td>\n",
       "      <td>Morocco</td>\n",
       "      <td>http://en.wikipedia.org/wiki/Ain-Diab_Circuit</td>\n",
       "    </tr>\n",
       "    <tr>\n",
       "      <th>2</th>\n",
       "      <td>aintree</td>\n",
       "      <td>Aintree</td>\n",
       "      <td>53.4769</td>\n",
       "      <td>-2.94056</td>\n",
       "      <td>Liverpool</td>\n",
       "      <td>UK</td>\n",
       "      <td>http://en.wikipedia.org/wiki/Aintree_Motor_Rac...</td>\n",
       "    </tr>\n",
       "    <tr>\n",
       "      <th>3</th>\n",
       "      <td>albert_park</td>\n",
       "      <td>Albert Park Grand Prix Circuit</td>\n",
       "      <td>-37.8497</td>\n",
       "      <td>144.968</td>\n",
       "      <td>Melbourne</td>\n",
       "      <td>Australia</td>\n",
       "      <td>http://en.wikipedia.org/wiki/Melbourne_Grand_P...</td>\n",
       "    </tr>\n",
       "    <tr>\n",
       "      <th>4</th>\n",
       "      <td>americas</td>\n",
       "      <td>Circuit of the Americas</td>\n",
       "      <td>30.1328</td>\n",
       "      <td>-97.6411</td>\n",
       "      <td>Austin</td>\n",
       "      <td>USA</td>\n",
       "      <td>http://en.wikipedia.org/wiki/Circuit_of_the_Am...</td>\n",
       "    </tr>\n",
       "  </tbody>\n",
       "</table>\n",
       "</div>"
      ],
      "text/plain": [
       "     CircuitId                     CircuitName       Lat      Long  \\\n",
       "0     adelaide         Adelaide Street Circuit  -34.9272   138.617   \n",
       "1     ain-diab                        Ain Diab   33.5786   -7.6875   \n",
       "2      aintree                         Aintree   53.4769  -2.94056   \n",
       "3  albert_park  Albert Park Grand Prix Circuit  -37.8497   144.968   \n",
       "4     americas         Circuit of the Americas   30.1328  -97.6411   \n",
       "\n",
       "     Locality    Country                                                url  \n",
       "0    Adelaide  Australia  http://en.wikipedia.org/wiki/Adelaide_Street_C...  \n",
       "1  Casablanca    Morocco      http://en.wikipedia.org/wiki/Ain-Diab_Circuit  \n",
       "2   Liverpool         UK  http://en.wikipedia.org/wiki/Aintree_Motor_Rac...  \n",
       "3   Melbourne  Australia  http://en.wikipedia.org/wiki/Melbourne_Grand_P...  \n",
       "4      Austin        USA  http://en.wikipedia.org/wiki/Circuit_of_the_Am...  "
      ]
     },
     "execution_count": 90,
     "metadata": {},
     "output_type": "execute_result"
    }
   ],
   "source": [
    "pd.DataFrame(circuits).head()"
   ]
  },
  {
   "cell_type": "code",
   "execution_count": 91,
   "id": "c73f79e6",
   "metadata": {},
   "outputs": [],
   "source": [
    "#Lo importamos a formato csv\n",
    "pd.DataFrame(circuits).to_csv('Circuits.csv', index=False)"
   ]
  },
  {
   "cell_type": "markdown",
   "id": "1e87a6a7",
   "metadata": {},
   "source": [
    "# $\\textrm{Tabla Qualifying}$"
   ]
  },
  {
   "cell_type": "code",
   "execution_count": 111,
   "id": "b3a66e68",
   "metadata": {},
   "outputs": [
    {
     "data": {
      "text/plain": [
       "dict_keys(['number', 'position', 'Driver', 'Constructor', 'Q1'])"
      ]
     },
     "execution_count": 111,
     "metadata": {},
     "output_type": "execute_result"
    }
   ],
   "source": [
    "#Primero analizamos qualifying results y que elementos contiene \n",
    "\n",
    "url='http://ergast.com/api/f1/qualifying.json'\n",
    "response = requests.get(url.format(2022))\n",
    "content=json.loads(response.content)\n",
    "content['MRData']['RaceTable']['Races'][0]['QualifyingResults'][0].keys()"
   ]
  },
  {
   "cell_type": "code",
   "execution_count": 117,
   "id": "ff02b521",
   "metadata": {},
   "outputs": [],
   "source": [
    "#Vamos a crear el diccionario\n",
    "\n",
    "qualifying = {'driverId':[],\n",
    "        'constructorId':[],\n",
    "        'number':[],\n",
    "        'position':[],\n",
    "       }"
   ]
  },
  {
   "cell_type": "code",
   "execution_count": 118,
   "id": "45a1f767",
   "metadata": {},
   "outputs": [],
   "source": [
    "#La función es\n",
    "\n",
    "for year in list(range(2010,2023)):\n",
    "    url ='http://ergast.com/api/f1/qualifying.json'\n",
    "    response = requests.get(url.format(year))\n",
    "    \n",
    "    content = json.loads(response.content)\n",
    "        \n",
    "    for i in content['MRData']['RaceTable']['Races'][0]['QualifyingResults']:\n",
    "        qualifying['driverId'].append(i['Driver']['driverId'])\n",
    "        qualifying['constructorId'].append(i['Constructor']['constructorId'])\n",
    "        qualifying['number'].append(int(i['number']))\n",
    "        qualifying['position'].append(int(i['position']))"
   ]
  },
  {
   "cell_type": "code",
   "execution_count": 119,
   "id": "080bf683",
   "metadata": {},
   "outputs": [
    {
     "data": {
      "text/html": [
       "<div>\n",
       "<style scoped>\n",
       "    .dataframe tbody tr th:only-of-type {\n",
       "        vertical-align: middle;\n",
       "    }\n",
       "\n",
       "    .dataframe tbody tr th {\n",
       "        vertical-align: top;\n",
       "    }\n",
       "\n",
       "    .dataframe thead th {\n",
       "        text-align: right;\n",
       "    }\n",
       "</style>\n",
       "<table border=\"1\" class=\"dataframe\">\n",
       "  <thead>\n",
       "    <tr style=\"text-align: right;\">\n",
       "      <th></th>\n",
       "      <th>driverId</th>\n",
       "      <th>constructorId</th>\n",
       "      <th>number</th>\n",
       "      <th>position</th>\n",
       "    </tr>\n",
       "  </thead>\n",
       "  <tbody>\n",
       "    <tr>\n",
       "      <th>0</th>\n",
       "      <td>senna</td>\n",
       "      <td>williams</td>\n",
       "      <td>2</td>\n",
       "      <td>1</td>\n",
       "    </tr>\n",
       "    <tr>\n",
       "      <th>1</th>\n",
       "      <td>michael_schumacher</td>\n",
       "      <td>benetton</td>\n",
       "      <td>5</td>\n",
       "      <td>2</td>\n",
       "    </tr>\n",
       "    <tr>\n",
       "      <th>2</th>\n",
       "      <td>alesi</td>\n",
       "      <td>ferrari</td>\n",
       "      <td>27</td>\n",
       "      <td>3</td>\n",
       "    </tr>\n",
       "    <tr>\n",
       "      <th>3</th>\n",
       "      <td>damon_hill</td>\n",
       "      <td>williams</td>\n",
       "      <td>0</td>\n",
       "      <td>4</td>\n",
       "    </tr>\n",
       "    <tr>\n",
       "      <th>4</th>\n",
       "      <td>frentzen</td>\n",
       "      <td>sauber</td>\n",
       "      <td>30</td>\n",
       "      <td>5</td>\n",
       "    </tr>\n",
       "  </tbody>\n",
       "</table>\n",
       "</div>"
      ],
      "text/plain": [
       "             driverId constructorId  number  position\n",
       "0               senna      williams       2         1\n",
       "1  michael_schumacher      benetton       5         2\n",
       "2               alesi       ferrari      27         3\n",
       "3          damon_hill      williams       0         4\n",
       "4            frentzen        sauber      30         5"
      ]
     },
     "execution_count": 119,
     "metadata": {},
     "output_type": "execute_result"
    }
   ],
   "source": [
    "pd.DataFrame(qualifying).head()"
   ]
  },
  {
   "cell_type": "code",
   "execution_count": 120,
   "id": "305e35f6",
   "metadata": {},
   "outputs": [],
   "source": [
    "#Creamos el archivo CSV\n",
    "\n",
    "pd.DataFrame(qualifying).to_csv('Qualifying.csv', index=False)"
   ]
  },
  {
   "cell_type": "code",
   "execution_count": null,
   "id": "cd1f731c",
   "metadata": {},
   "outputs": [],
   "source": []
  }
 ],
 "metadata": {
  "kernelspec": {
   "display_name": "Python 3 (ipykernel)",
   "language": "python",
   "name": "python3"
  },
  "language_info": {
   "codemirror_mode": {
    "name": "ipython",
    "version": 3
   },
   "file_extension": ".py",
   "mimetype": "text/x-python",
   "name": "python",
   "nbconvert_exporter": "python",
   "pygments_lexer": "ipython3",
   "version": "3.9.13"
  }
 },
 "nbformat": 4,
 "nbformat_minor": 5
}
