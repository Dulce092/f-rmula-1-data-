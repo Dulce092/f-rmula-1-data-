{
 "cells": [
  {
   "cell_type": "markdown",
   "id": "2cc5ad16",
   "metadata": {},
   "source": [
    "## Vamos a analizar los datos de la formula 1\n",
    "$\\textbf{Entregable 3}$\n",
    "\n",
    "Dulce Maria Barbosa Campos 201946404"
   ]
  },
  {
   "cell_type": "markdown",
   "id": "0ba4c67f",
   "metadata": {},
   "source": [
    "Ahora vamos a crear tablas para cada DataBase de nuestra API"
   ]
  },
  {
   "cell_type": "code",
   "execution_count": 286,
   "id": "0df9e474",
   "metadata": {},
   "outputs": [],
   "source": [
    "import requests\n",
    "import json\n",
    "import pandas as pd\n",
    "import warnings\n",
    "warnings.filterwarnings('ignore')"
   ]
  },
  {
   "cell_type": "markdown",
   "id": "3c4ebe88",
   "metadata": {},
   "source": [
    "# $\\textrm{Tabla LapTimes}$"
   ]
  },
  {
   "cell_type": "code",
   "execution_count": 287,
   "id": "1fffb628",
   "metadata": {},
   "outputs": [
    {
     "data": {
      "text/plain": [
       "dict_keys(['driverId', 'position', 'time'])"
      ]
     },
     "execution_count": 287,
     "metadata": {},
     "output_type": "execute_result"
    }
   ],
   "source": [
    "#Primero analizamos Laptimes y que elementos contiene \n",
    "\n",
    "url='http://ergast.com/api/f1/2022/5/laps/1.json'\n",
    "response = requests.get(url.format(2022))\n",
    "content=json.loads(response.content)\n",
    "content['MRData']['RaceTable']['Races'][0]['Laps'][0]['Timings'][0].keys()"
   ]
  },
  {
   "cell_type": "code",
   "execution_count": 288,
   "id": "fdce0bf2",
   "metadata": {},
   "outputs": [],
   "source": [
    "#Creamos el diccionario\n",
    "\n",
    "Laptime = {'RaceId':[],\n",
    "        'DriverId':[],\n",
    "        'Position':[],\n",
    "        'Time':[],\n",
    "       }"
   ]
  },
  {
   "cell_type": "code",
   "execution_count": 289,
   "id": "56224d7b",
   "metadata": {},
   "outputs": [],
   "source": [
    "#Creamos la función \n",
    "\n",
    "for year in range(2010,2023):\n",
    "    url ='http://ergast.com/api/f1/{}/5/laps/1.json'\n",
    "    response = requests.get(url.format(year))\n",
    "    content=json.loads(response.content)\n",
    "    \n",
    "    for  i in content['MRData']['RaceTable']['Races'][0]['Laps'][0]['Timings']:\n",
    "        Laptime['RaceId'].append(content['MRData']['RaceTable']['Races'][0]['raceName'])\n",
    "        Laptime['DriverId'].append(i[\"driverId\"])\n",
    "        Laptime['Position'].append(i['position'])\n",
    "        Laptime['Time'].append(i['time'])\n",
    "    "
   ]
  },
  {
   "cell_type": "code",
   "execution_count": 290,
   "id": "e1ddf5e6",
   "metadata": {},
   "outputs": [
    {
     "data": {
      "text/html": [
       "<div>\n",
       "<style scoped>\n",
       "    .dataframe tbody tr th:only-of-type {\n",
       "        vertical-align: middle;\n",
       "    }\n",
       "\n",
       "    .dataframe tbody tr th {\n",
       "        vertical-align: top;\n",
       "    }\n",
       "\n",
       "    .dataframe thead th {\n",
       "        text-align: right;\n",
       "    }\n",
       "</style>\n",
       "<table border=\"1\" class=\"dataframe\">\n",
       "  <thead>\n",
       "    <tr style=\"text-align: right;\">\n",
       "      <th></th>\n",
       "      <th>RaceId</th>\n",
       "      <th>DriverId</th>\n",
       "      <th>Position</th>\n",
       "      <th>Time</th>\n",
       "    </tr>\n",
       "  </thead>\n",
       "  <tbody>\n",
       "    <tr>\n",
       "      <th>0</th>\n",
       "      <td>Spanish Grand Prix</td>\n",
       "      <td>webber</td>\n",
       "      <td>1</td>\n",
       "      <td>1:31.460</td>\n",
       "    </tr>\n",
       "    <tr>\n",
       "      <th>1</th>\n",
       "      <td>Spanish Grand Prix</td>\n",
       "      <td>vettel</td>\n",
       "      <td>2</td>\n",
       "      <td>1:32.211</td>\n",
       "    </tr>\n",
       "    <tr>\n",
       "      <th>2</th>\n",
       "      <td>Spanish Grand Prix</td>\n",
       "      <td>hamilton</td>\n",
       "      <td>3</td>\n",
       "      <td>1:33.114</td>\n",
       "    </tr>\n",
       "    <tr>\n",
       "      <th>3</th>\n",
       "      <td>Spanish Grand Prix</td>\n",
       "      <td>alonso</td>\n",
       "      <td>4</td>\n",
       "      <td>1:33.939</td>\n",
       "    </tr>\n",
       "    <tr>\n",
       "      <th>4</th>\n",
       "      <td>Spanish Grand Prix</td>\n",
       "      <td>button</td>\n",
       "      <td>5</td>\n",
       "      <td>1:34.658</td>\n",
       "    </tr>\n",
       "  </tbody>\n",
       "</table>\n",
       "</div>"
      ],
      "text/plain": [
       "               RaceId  DriverId Position      Time\n",
       "0  Spanish Grand Prix    webber        1  1:31.460\n",
       "1  Spanish Grand Prix    vettel        2  1:32.211\n",
       "2  Spanish Grand Prix  hamilton        3  1:33.114\n",
       "3  Spanish Grand Prix    alonso        4  1:33.939\n",
       "4  Spanish Grand Prix    button        5  1:34.658"
      ]
     },
     "execution_count": 290,
     "metadata": {},
     "output_type": "execute_result"
    }
   ],
   "source": [
    "pd.DataFrame(Laptime).head()"
   ]
  },
  {
   "cell_type": "code",
   "execution_count": 291,
   "id": "c1092f69",
   "metadata": {},
   "outputs": [],
   "source": [
    "#Creamos el archivo csv\n",
    "\n",
    "pd.DataFrame(Laptime).to_csv('Laptimes.csv', index=False)"
   ]
  },
  {
   "cell_type": "markdown",
   "id": "96450781",
   "metadata": {},
   "source": [
    "# $\\textrm{Tabla DriverStandings}$"
   ]
  },
  {
   "cell_type": "code",
   "execution_count": 292,
   "id": "fb88251c",
   "metadata": {},
   "outputs": [
    {
     "data": {
      "text/plain": [
       "dict_keys(['position', 'positionText', 'points', 'wins', 'Driver', 'Constructors'])"
      ]
     },
     "execution_count": 292,
     "metadata": {},
     "output_type": "execute_result"
    }
   ],
   "source": [
    "#Primero analizamos DriverStandings y que elementos contiene \n",
    "\n",
    "url='http://ergast.com/api/f1/2022/5/driverStandings.json'\n",
    "response = requests.get(url.format(2022))\n",
    "content=json.loads(response.content)\n",
    "content['MRData']['StandingsTable']['StandingsLists'][0]['DriverStandings'][0].keys()"
   ]
  },
  {
   "cell_type": "code",
   "execution_count": 293,
   "id": "5c810fd7",
   "metadata": {},
   "outputs": [],
   "source": [
    "#Creamos el diccionario\n",
    "\n",
    "DriverStandings = {'DriverId':[],\n",
    "        'Position':[],\n",
    "        'PositionText':[],\n",
    "        'Points':[],\n",
    "        'Wins':[],\n",
    "       }"
   ]
  },
  {
   "cell_type": "code",
   "execution_count": 294,
   "id": "b40ff83d",
   "metadata": {},
   "outputs": [],
   "source": [
    "#Creamos la función \n",
    "\n",
    "for year in range(2010,2023):\n",
    "    url ='http://ergast.com/api/f1/{}/driverStandings.json'\n",
    "    response = requests.get(url.format(year))\n",
    "    content=json.loads(response.content)\n",
    "    \n",
    "    for  i in content['MRData']['StandingsTable']['StandingsLists'][0]['DriverStandings']:\n",
    "        DriverStandings['DriverId'].append(i['Driver'][\"driverId\"])\n",
    "        DriverStandings['Position'].append(i['position'])\n",
    "        DriverStandings['PositionText'].append(i['positionText'])\n",
    "        DriverStandings['Points'].append(i['points'])\n",
    "        DriverStandings['Wins'].append(i['wins'])\n",
    "    "
   ]
  },
  {
   "cell_type": "code",
   "execution_count": 295,
   "id": "399df32f",
   "metadata": {},
   "outputs": [
    {
     "data": {
      "text/html": [
       "<div>\n",
       "<style scoped>\n",
       "    .dataframe tbody tr th:only-of-type {\n",
       "        vertical-align: middle;\n",
       "    }\n",
       "\n",
       "    .dataframe tbody tr th {\n",
       "        vertical-align: top;\n",
       "    }\n",
       "\n",
       "    .dataframe thead th {\n",
       "        text-align: right;\n",
       "    }\n",
       "</style>\n",
       "<table border=\"1\" class=\"dataframe\">\n",
       "  <thead>\n",
       "    <tr style=\"text-align: right;\">\n",
       "      <th></th>\n",
       "      <th>DriverId</th>\n",
       "      <th>Position</th>\n",
       "      <th>PositionText</th>\n",
       "      <th>Points</th>\n",
       "      <th>Wins</th>\n",
       "    </tr>\n",
       "  </thead>\n",
       "  <tbody>\n",
       "    <tr>\n",
       "      <th>0</th>\n",
       "      <td>vettel</td>\n",
       "      <td>1</td>\n",
       "      <td>1</td>\n",
       "      <td>256</td>\n",
       "      <td>5</td>\n",
       "    </tr>\n",
       "    <tr>\n",
       "      <th>1</th>\n",
       "      <td>alonso</td>\n",
       "      <td>2</td>\n",
       "      <td>2</td>\n",
       "      <td>252</td>\n",
       "      <td>5</td>\n",
       "    </tr>\n",
       "    <tr>\n",
       "      <th>2</th>\n",
       "      <td>webber</td>\n",
       "      <td>3</td>\n",
       "      <td>3</td>\n",
       "      <td>242</td>\n",
       "      <td>4</td>\n",
       "    </tr>\n",
       "    <tr>\n",
       "      <th>3</th>\n",
       "      <td>hamilton</td>\n",
       "      <td>4</td>\n",
       "      <td>4</td>\n",
       "      <td>240</td>\n",
       "      <td>3</td>\n",
       "    </tr>\n",
       "    <tr>\n",
       "      <th>4</th>\n",
       "      <td>button</td>\n",
       "      <td>5</td>\n",
       "      <td>5</td>\n",
       "      <td>214</td>\n",
       "      <td>2</td>\n",
       "    </tr>\n",
       "  </tbody>\n",
       "</table>\n",
       "</div>"
      ],
      "text/plain": [
       "   DriverId Position PositionText Points Wins\n",
       "0    vettel        1            1    256    5\n",
       "1    alonso        2            2    252    5\n",
       "2    webber        3            3    242    4\n",
       "3  hamilton        4            4    240    3\n",
       "4    button        5            5    214    2"
      ]
     },
     "execution_count": 295,
     "metadata": {},
     "output_type": "execute_result"
    }
   ],
   "source": [
    "pd.DataFrame(DriverStandings).head()"
   ]
  },
  {
   "cell_type": "code",
   "execution_count": 296,
   "id": "090979ab",
   "metadata": {},
   "outputs": [],
   "source": [
    "#Creamos el archivo csv\n",
    "pd.DataFrame(DriverStandings).to_csv('DriverStandings.csv', index=False)"
   ]
  },
  {
   "cell_type": "markdown",
   "id": "49f06a3e",
   "metadata": {},
   "source": [
    "# $\\textrm{Tabla ConstructorStandings}$"
   ]
  },
  {
   "cell_type": "code",
   "execution_count": 297,
   "id": "dc9fa028",
   "metadata": {},
   "outputs": [
    {
     "data": {
      "text/plain": [
       "dict_keys(['position', 'positionText', 'points', 'wins', 'Constructor'])"
      ]
     },
     "execution_count": 297,
     "metadata": {},
     "output_type": "execute_result"
    }
   ],
   "source": [
    "#Primero analizamos ConstructorsStandings y que elementos contiene \n",
    "\n",
    "url='http://ergast.com/api/f1/2022/5/constructorStandings.json'\n",
    "response = requests.get(url.format(2022))\n",
    "content=json.loads(response.content)\n",
    "content['MRData']['StandingsTable']['StandingsLists'][0]['ConstructorStandings'][0].keys()"
   ]
  },
  {
   "cell_type": "code",
   "execution_count": 298,
   "id": "891bf730",
   "metadata": {},
   "outputs": [],
   "source": [
    "#Creamos el diccionario\n",
    "\n",
    "ConstructorStandigs = {'ConstructorId':[],\n",
    "                       'Position':[],\n",
    "                       'PositionText':[],\n",
    "                       'Points':[],\n",
    "                       'Wins':[],\n",
    "                      }"
   ]
  },
  {
   "cell_type": "code",
   "execution_count": 299,
   "id": "e01320e9",
   "metadata": {},
   "outputs": [],
   "source": [
    "#Creamos la función \n",
    "\n",
    "for year in range(2010,2023):\n",
    "    url ='http://ergast.com/api/f1/{}/constructorStandings.json'\n",
    "    response = requests.get(url.format(year))\n",
    "    content=json.loads(response.content)\n",
    "    \n",
    "    for  i in content['MRData']['StandingsTable']['StandingsLists'][0]['ConstructorStandings']:\n",
    "        ConstructorStandigs['ConstructorId'].append(i['Constructor']['constructorId'])\n",
    "        ConstructorStandigs['Position'].append(i['position'])\n",
    "        ConstructorStandigs['PositionText'].append(i['positionText'])\n",
    "        ConstructorStandigs['Points'].append(i['points'])\n",
    "        ConstructorStandigs['Wins'].append(i['wins'])\n",
    "    "
   ]
  },
  {
   "cell_type": "code",
   "execution_count": 300,
   "id": "4aba5a60",
   "metadata": {},
   "outputs": [
    {
     "data": {
      "text/html": [
       "<div>\n",
       "<style scoped>\n",
       "    .dataframe tbody tr th:only-of-type {\n",
       "        vertical-align: middle;\n",
       "    }\n",
       "\n",
       "    .dataframe tbody tr th {\n",
       "        vertical-align: top;\n",
       "    }\n",
       "\n",
       "    .dataframe thead th {\n",
       "        text-align: right;\n",
       "    }\n",
       "</style>\n",
       "<table border=\"1\" class=\"dataframe\">\n",
       "  <thead>\n",
       "    <tr style=\"text-align: right;\">\n",
       "      <th></th>\n",
       "      <th>ConstructorId</th>\n",
       "      <th>Position</th>\n",
       "      <th>PositionText</th>\n",
       "      <th>Points</th>\n",
       "      <th>Wins</th>\n",
       "    </tr>\n",
       "  </thead>\n",
       "  <tbody>\n",
       "    <tr>\n",
       "      <th>0</th>\n",
       "      <td>red_bull</td>\n",
       "      <td>1</td>\n",
       "      <td>1</td>\n",
       "      <td>498</td>\n",
       "      <td>9</td>\n",
       "    </tr>\n",
       "    <tr>\n",
       "      <th>1</th>\n",
       "      <td>mclaren</td>\n",
       "      <td>2</td>\n",
       "      <td>2</td>\n",
       "      <td>454</td>\n",
       "      <td>5</td>\n",
       "    </tr>\n",
       "    <tr>\n",
       "      <th>2</th>\n",
       "      <td>ferrari</td>\n",
       "      <td>3</td>\n",
       "      <td>3</td>\n",
       "      <td>396</td>\n",
       "      <td>5</td>\n",
       "    </tr>\n",
       "    <tr>\n",
       "      <th>3</th>\n",
       "      <td>mercedes</td>\n",
       "      <td>4</td>\n",
       "      <td>4</td>\n",
       "      <td>214</td>\n",
       "      <td>0</td>\n",
       "    </tr>\n",
       "    <tr>\n",
       "      <th>4</th>\n",
       "      <td>renault</td>\n",
       "      <td>5</td>\n",
       "      <td>5</td>\n",
       "      <td>163</td>\n",
       "      <td>0</td>\n",
       "    </tr>\n",
       "  </tbody>\n",
       "</table>\n",
       "</div>"
      ],
      "text/plain": [
       "  ConstructorId Position PositionText Points Wins\n",
       "0      red_bull        1            1    498    9\n",
       "1       mclaren        2            2    454    5\n",
       "2       ferrari        3            3    396    5\n",
       "3      mercedes        4            4    214    0\n",
       "4       renault        5            5    163    0"
      ]
     },
     "execution_count": 300,
     "metadata": {},
     "output_type": "execute_result"
    }
   ],
   "source": [
    "pd.DataFrame(ConstructorStandigs).head()"
   ]
  },
  {
   "cell_type": "code",
   "execution_count": 301,
   "id": "85d93238",
   "metadata": {},
   "outputs": [],
   "source": [
    "#Creamos el archivo csv\n",
    "\n",
    "pd.DataFrame(ConstructorStandigs).to_csv('ConstructorStandigs.csv', index=False)"
   ]
  },
  {
   "cell_type": "markdown",
   "id": "1a03c9ff",
   "metadata": {},
   "source": [
    "# $\\textrm{Tabla ConstructorResults}$"
   ]
  },
  {
   "cell_type": "code",
   "execution_count": 302,
   "id": "b35e86c0",
   "metadata": {},
   "outputs": [
    {
     "data": {
      "text/plain": [
       "dict_keys(['number', 'position', 'positionText', 'points', 'Driver', 'Constructor', 'grid', 'laps', 'status', 'Time', 'FastestLap'])"
      ]
     },
     "execution_count": 302,
     "metadata": {},
     "output_type": "execute_result"
    }
   ],
   "source": [
    "#Dado que no hay un link vamos a analizar constructors\n",
    "\n",
    "url='http://ergast.com/api/f1/2022/results.json'\n",
    "response = requests.get(url.format(2022))\n",
    "content=json.loads(response.content)\n",
    "content['MRData']['RaceTable']['Races'][0]['Results'][0][ 'Constructor'].keys()\n",
    "content['MRData']['RaceTable']['Races'][0]['Results'][0].keys()"
   ]
  },
  {
   "cell_type": "code",
   "execution_count": 303,
   "id": "18f2aace",
   "metadata": {},
   "outputs": [],
   "source": [
    "#Creamos el diccionario\n",
    "ConstructorResults= {'RaceId':[],\n",
    "                     'ConstructorId':[],\n",
    "                     'Points':[],\n",
    "                     'Status':[],\n",
    "                    }\n"
   ]
  },
  {
   "cell_type": "code",
   "execution_count": 304,
   "id": "c72d3ba9",
   "metadata": {},
   "outputs": [],
   "source": [
    "#Creamos la función \n",
    "\n",
    "for year in range(2010,2023):\n",
    "    url ='http://ergast.com/api/f1/{}/results.json'\n",
    "    response = requests.get(url.format(year))\n",
    "    content=json.loads(response.content)\n",
    "    \n",
    "    for  i in content['MRData']['RaceTable']['Races'][0]['Results']:\n",
    "        ConstructorResults['RaceId'].append(content['MRData']['RaceTable']['Races'][0]['raceName'])\n",
    "        ConstructorResults['ConstructorId'].append(i['Constructor']['constructorId'])\n",
    "        ConstructorResults['Points'].append(i['points'])\n",
    "        ConstructorResults['Status'].append(i['status'])\n",
    "        \n",
    "    for  i in content['MRData']['RaceTable']['Races'][1]['Results']:\n",
    "        ConstructorResults['RaceId'].append(content['MRData']['RaceTable']['Races'][1]['raceName'])\n",
    "        ConstructorResults['ConstructorId'].append(i['Constructor']['constructorId'])\n",
    "        ConstructorResults['Points'].append(i['points'])\n",
    "        ConstructorResults['Status'].append(i['status'])\n",
    "    "
   ]
  },
  {
   "cell_type": "code",
   "execution_count": 308,
   "id": "b779e935",
   "metadata": {},
   "outputs": [
    {
     "data": {
      "text/html": [
       "<div>\n",
       "<style scoped>\n",
       "    .dataframe tbody tr th:only-of-type {\n",
       "        vertical-align: middle;\n",
       "    }\n",
       "\n",
       "    .dataframe tbody tr th {\n",
       "        vertical-align: top;\n",
       "    }\n",
       "\n",
       "    .dataframe thead th {\n",
       "        text-align: right;\n",
       "    }\n",
       "</style>\n",
       "<table border=\"1\" class=\"dataframe\">\n",
       "  <thead>\n",
       "    <tr style=\"text-align: right;\">\n",
       "      <th></th>\n",
       "      <th>RaceId</th>\n",
       "      <th>ConstructorId</th>\n",
       "      <th>Points</th>\n",
       "      <th>Status</th>\n",
       "    </tr>\n",
       "  </thead>\n",
       "  <tbody>\n",
       "    <tr>\n",
       "      <th>0</th>\n",
       "      <td>Bahrain Grand Prix</td>\n",
       "      <td>ferrari</td>\n",
       "      <td>25</td>\n",
       "      <td>Finished</td>\n",
       "    </tr>\n",
       "    <tr>\n",
       "      <th>1</th>\n",
       "      <td>Bahrain Grand Prix</td>\n",
       "      <td>ferrari</td>\n",
       "      <td>18</td>\n",
       "      <td>Finished</td>\n",
       "    </tr>\n",
       "    <tr>\n",
       "      <th>2</th>\n",
       "      <td>Bahrain Grand Prix</td>\n",
       "      <td>mclaren</td>\n",
       "      <td>15</td>\n",
       "      <td>Finished</td>\n",
       "    </tr>\n",
       "    <tr>\n",
       "      <th>3</th>\n",
       "      <td>Bahrain Grand Prix</td>\n",
       "      <td>red_bull</td>\n",
       "      <td>12</td>\n",
       "      <td>Finished</td>\n",
       "    </tr>\n",
       "    <tr>\n",
       "      <th>4</th>\n",
       "      <td>Bahrain Grand Prix</td>\n",
       "      <td>mercedes</td>\n",
       "      <td>10</td>\n",
       "      <td>Finished</td>\n",
       "    </tr>\n",
       "  </tbody>\n",
       "</table>\n",
       "</div>"
      ],
      "text/plain": [
       "               RaceId ConstructorId Points    Status\n",
       "0  Bahrain Grand Prix       ferrari     25  Finished\n",
       "1  Bahrain Grand Prix       ferrari     18  Finished\n",
       "2  Bahrain Grand Prix       mclaren     15  Finished\n",
       "3  Bahrain Grand Prix      red_bull     12  Finished\n",
       "4  Bahrain Grand Prix      mercedes     10  Finished"
      ]
     },
     "execution_count": 308,
     "metadata": {},
     "output_type": "execute_result"
    }
   ],
   "source": [
    "pd.DataFrame(ConstructorResults).head()"
   ]
  },
  {
   "cell_type": "code",
   "execution_count": 309,
   "id": "ef4e1315",
   "metadata": {},
   "outputs": [],
   "source": [
    "#Creamos el archivo csv\n",
    "\n",
    "pd.DataFrame(ConstructorResults).to_csv('ConstructorResults.csv', index=False)"
   ]
  },
  {
   "cell_type": "code",
   "execution_count": null,
   "id": "8805f911",
   "metadata": {},
   "outputs": [],
   "source": []
  }
 ],
 "metadata": {
  "kernelspec": {
   "display_name": "Python 3 (ipykernel)",
   "language": "python",
   "name": "python3"
  },
  "language_info": {
   "codemirror_mode": {
    "name": "ipython",
    "version": 3
   },
   "file_extension": ".py",
   "mimetype": "text/x-python",
   "name": "python",
   "nbconvert_exporter": "python",
   "pygments_lexer": "ipython3",
   "version": "3.9.13"
  }
 },
 "nbformat": 4,
 "nbformat_minor": 5
}
